{
 "cells": [
  {
   "cell_type": "code",
   "execution_count": 23,
   "id": "16a314e5-b435-4673-b210-55504bc83dcc",
   "metadata": {},
   "outputs": [],
   "source": [
    "import numpy as np\n",
    "import matplotlib.pyplot as plt\n",
    "import time"
   ]
  },
  {
   "cell_type": "code",
   "execution_count": 43,
   "id": "ca518418-f2f0-4836-a028-8185284fd8fa",
   "metadata": {},
   "outputs": [],
   "source": [
    "def mu(beta, n):\n",
    "    # beta is the parameter for temperature\n",
    "    # n is the number of iterations used in MCMC algorithm\n",
    "    \n",
    "    running_mean = 0\n",
    "    running_var = 0\n",
    "    s = np.ones((30,30))\n",
    "    n_iter = 0\n",
    "    n_total = 0\n",
    "    \n",
    "    while True:\n",
    "        r1, r2 = np.random.randint(0, 30), np.random.randint(0, 30)\n",
    "        r1_p, r1_m = (r1 + 1) % 30, (r1 - 1) % 30\n",
    "        r2_p, r2_m = (r2 + 1) % 30, (r2 - 1) % 30\n",
    "        delta_h = 2 * s[r1, r2] * (s[r1_p, r2] + s[r1_m, r2] + s[r1, r2_p] + s[r1, r2_m])\n",
    "        ratio = np.exp(-1 * beta * delta_h)\n",
    "        \n",
    "        accept = False\n",
    "        if ratio > 1:\n",
    "            accept = True\n",
    "        else:\n",
    "            u = np.random.rand()\n",
    "            if u < ratio:\n",
    "                accept = True\n",
    "        \n",
    "        if accept:\n",
    "            s[r1, r2] = -s[r1, r2]\n",
    "            rm_old = running_mean\n",
    "            running_mean = (n_iter * running_mean + np.mean(s)) / (n_iter + 1)\n",
    "            if n_iter > 0:\n",
    "                running_var = ((n_iter - 1) * running_var + n_iter * (rm_old - running_mean)**2 + (np.mean(s) - running_mean)**2) / n_iter\n",
    "            n_iter += 1\n",
    "        \n",
    "        n_total += 1\n",
    "        if n_total >= n:\n",
    "            break\n",
    "            \n",
    "    return running_mean, running_var\n",
    "        "
   ]
  },
  {
   "cell_type": "code",
   "execution_count": 14,
   "id": "10a5368d-f8b0-4036-80a8-b498680dee17",
   "metadata": {},
   "outputs": [],
   "source": [
    "def true_mu(beta):\n",
    "    res = 0\n",
    "    if beta > 0.4408:\n",
    "        res = (1 - (np.sinh(2*beta))**(-4))**(1/8)\n",
    "    return res"
   ]
  },
  {
   "cell_type": "code",
   "execution_count": 28,
   "id": "386d9755-7fc2-409d-bffc-d16b96ee75ab",
   "metadata": {
    "collapsed": true,
    "jupyter": {
     "outputs_hidden": true
    },
    "tags": []
   },
   "outputs": [
    {
     "data": {
      "text/plain": [
       "array([0.        , 0.        , 0.        , 0.        , 0.        ,\n",
       "       0.        , 0.        , 0.        , 0.        , 0.        ,\n",
       "       0.        , 0.        , 0.        , 0.        , 0.        ,\n",
       "       0.        , 0.        , 0.        , 0.        , 0.        ,\n",
       "       0.        , 0.        , 0.        , 0.        , 0.        ,\n",
       "       0.74932261, 0.81463813, 0.85196282, 0.87752291, 0.89651849,\n",
       "       0.91131938, 0.92321481, 0.93298706, 0.94114743, 0.94804875,\n",
       "       0.95394464, 0.95902341, 0.96342855, 0.96727172, 0.97064138,\n",
       "       0.97360867, 0.97623151, 0.97855764, 0.98062671, 0.98247201,\n",
       "       0.98412165, 0.98559954, 0.98692613, 0.98811902, 0.98919342,\n",
       "       0.99016254, 0.99103788, 0.99182952, 0.99254629, 0.99319597,\n",
       "       0.99378543, 0.99432075, 0.99480733, 0.99524995, 0.9956529 ,\n",
       "       0.99601999, 0.99635464, 0.9966599 , 0.99693852, 0.99719296,\n",
       "       0.99742544, 0.99763796, 0.99783233, 0.99801017, 0.99817296,\n",
       "       0.99832202, 0.99845857, 0.99858371, 0.99869841, 0.99880359,\n",
       "       0.99890007, 0.99898858, 0.99906982, 0.99914439, 0.99921286,\n",
       "       0.99927575])"
      ]
     },
     "execution_count": 28,
     "metadata": {},
     "output_type": "execute_result"
    }
   ],
   "source": [
    "x_range = np.linspace(0.2, 1, 81)\n",
    "y_range = np.zeros(81)\n",
    "\n",
    "for i in range(81):\n",
    "    y_range[i] = true_mu(x_range[i])\n"
   ]
  },
  {
   "cell_type": "code",
   "execution_count": 47,
   "id": "f12f8892-d804-44a6-a678-c8e246a67042",
   "metadata": {
    "tags": []
   },
   "outputs": [
    {
     "name": "stdout",
     "output_type": "stream",
     "text": [
      "Iteration 1 is finished. Time spent: 873.916778087616 seconds.\n",
      "Iteration 2 is finished. Time spent: 856.5867943763733 seconds.\n",
      "Iteration 3 is finished. Time spent: 858.0103080272675 seconds.\n",
      "Iteration 4 is finished. Time spent: 851.4006190299988 seconds.\n",
      "Iteration 5 is finished. Time spent: 833.5456876754761 seconds.\n",
      "Iteration 6 is finished. Time spent: 833.5841779708862 seconds.\n",
      "Iteration 7 is finished. Time spent: 818.0942862033844 seconds.\n",
      "Iteration 8 is finished. Time spent: 783.0790331363678 seconds.\n",
      "Iteration 9 is finished. Time spent: 783.7706849575043 seconds.\n",
      "Iteration 10 is finished. Time spent: 765.7901680469513 seconds.\n",
      "Iteration 11 is finished. Time spent: 756.4506587982178 seconds.\n",
      "Iteration 12 is finished. Time spent: 754.8555262088776 seconds.\n",
      "Iteration 13 is finished. Time spent: 733.7744269371033 seconds.\n",
      "Iteration 14 is finished. Time spent: 728.1668407917023 seconds.\n",
      "Iteration 15 is finished. Time spent: 706.6599638462067 seconds.\n",
      "Iteration 16 is finished. Time spent: 694.4814329147339 seconds.\n",
      "Iteration 17 is finished. Time spent: 683.2530930042267 seconds.\n",
      "Iteration 18 is finished. Time spent: 668.2265958786011 seconds.\n",
      "Iteration 19 is finished. Time spent: 646.4599769115448 seconds.\n",
      "Iteration 20 is finished. Time spent: 630.5226709842682 seconds.\n",
      "Iteration 21 is finished. Time spent: 614.2864801883698 seconds.\n",
      "Iteration 22 is finished. Time spent: 593.6984860897064 seconds.\n",
      "Iteration 23 is finished. Time spent: 579.6635940074921 seconds.\n",
      "Iteration 24 is finished. Time spent: 545.6871447563171 seconds.\n",
      "Iteration 25 is finished. Time spent: 519.19287109375 seconds.\n",
      "Iteration 26 is finished. Time spent: 489.2188608646393 seconds.\n",
      "Iteration 27 is finished. Time spent: 478.728000164032 seconds.\n",
      "Iteration 28 is finished. Time spent: 459.36885499954224 seconds.\n",
      "Iteration 29 is finished. Time spent: 450.91279006004333 seconds.\n",
      "Iteration 30 is finished. Time spent: 437.98865723609924 seconds.\n",
      "Iteration 31 is finished. Time spent: 432.4677040576935 seconds.\n",
      "Iteration 32 is finished. Time spent: 423.57388639450073 seconds.\n",
      "Iteration 33 is finished. Time spent: 416.27797508239746 seconds.\n",
      "Iteration 34 is finished. Time spent: 411.44474172592163 seconds.\n",
      "Iteration 35 is finished. Time spent: 410.2705090045929 seconds.\n",
      "Iteration 36 is finished. Time spent: 402.94648718833923 seconds.\n",
      "Iteration 37 is finished. Time spent: 399.54052901268005 seconds.\n",
      "Iteration 38 is finished. Time spent: 390.40916323661804 seconds.\n",
      "Iteration 39 is finished. Time spent: 389.14493584632874 seconds.\n",
      "Iteration 40 is finished. Time spent: 384.84522223472595 seconds.\n",
      "Iteration 41 is finished. Time spent: 384.1256697177887 seconds.\n",
      "Iteration 42 is finished. Time spent: 383.33900332450867 seconds.\n",
      "Iteration 43 is finished. Time spent: 379.24270272254944 seconds.\n",
      "Iteration 44 is finished. Time spent: 379.4278690814972 seconds.\n",
      "Iteration 45 is finished. Time spent: 378.56090784072876 seconds.\n",
      "Iteration 46 is finished. Time spent: 376.46779704093933 seconds.\n",
      "Iteration 47 is finished. Time spent: 373.45947003364563 seconds.\n",
      "Iteration 48 is finished. Time spent: 373.1298727989197 seconds.\n",
      "Iteration 49 is finished. Time spent: 372.1202540397644 seconds.\n",
      "Iteration 50 is finished. Time spent: 375.1359281539917 seconds.\n",
      "Iteration 51 is finished. Time spent: 376.9744019508362 seconds.\n",
      "Iteration 52 is finished. Time spent: 376.3361828327179 seconds.\n",
      "Iteration 53 is finished. Time spent: 378.35001707077026 seconds.\n",
      "Iteration 54 is finished. Time spent: 376.8910336494446 seconds.\n",
      "Iteration 55 is finished. Time spent: 374.0279800891876 seconds.\n",
      "Iteration 56 is finished. Time spent: 377.8904302120209 seconds.\n",
      "Iteration 57 is finished. Time spent: 373.33681082725525 seconds.\n",
      "Iteration 58 is finished. Time spent: 372.85721492767334 seconds.\n",
      "Iteration 59 is finished. Time spent: 371.6613681316376 seconds.\n",
      "Iteration 60 is finished. Time spent: 372.94291400909424 seconds.\n",
      "Iteration 61 is finished. Time spent: 389.6064519882202 seconds.\n",
      "Iteration 62 is finished. Time spent: 367.94508504867554 seconds.\n",
      "Iteration 63 is finished. Time spent: 362.72261095046997 seconds.\n",
      "Iteration 64 is finished. Time spent: 363.0373091697693 seconds.\n",
      "Iteration 65 is finished. Time spent: 363.52991008758545 seconds.\n",
      "Iteration 66 is finished. Time spent: 365.7452070713043 seconds.\n",
      "Iteration 67 is finished. Time spent: 369.25044298171997 seconds.\n",
      "Iteration 68 is finished. Time spent: 369.86603593826294 seconds.\n",
      "Iteration 69 is finished. Time spent: 370.8760631084442 seconds.\n",
      "Iteration 70 is finished. Time spent: 369.89237904548645 seconds.\n",
      "Iteration 71 is finished. Time spent: 370.24571800231934 seconds.\n",
      "Iteration 72 is finished. Time spent: 369.3504128456116 seconds.\n",
      "Iteration 73 is finished. Time spent: 373.12945318222046 seconds.\n",
      "Iteration 74 is finished. Time spent: 370.99150013923645 seconds.\n",
      "Iteration 75 is finished. Time spent: 366.38128781318665 seconds.\n",
      "Iteration 76 is finished. Time spent: 369.5571599006653 seconds.\n",
      "Iteration 77 is finished. Time spent: 369.00935196876526 seconds.\n",
      "Iteration 78 is finished. Time spent: 367.76772904396057 seconds.\n",
      "Iteration 79 is finished. Time spent: 372.736793756485 seconds.\n",
      "Iteration 80 is finished. Time spent: 368.7256579399109 seconds.\n",
      "Iteration 81 is finished. Time spent: 366.48382902145386 seconds.\n"
     ]
    }
   ],
   "source": [
    "rm_range = np.zeros(81)\n",
    "rv_range = np.zeros(81)\n",
    "\n",
    "for i in range(81):\n",
    "    t0 = time.time()\n",
    "    rm, rv = mu(x_range[i], 100000000)\n",
    "    t1 = time.time()\n",
    "    print('Iteration ' + str(i+1) + ' is finished. Time spent: ' + str(t1-t0) + ' seconds.')\n",
    "    rm_range[i] = rm\n",
    "    rv_range[i] = rv"
   ]
  },
  {
   "cell_type": "code",
   "execution_count": 55,
   "id": "a5ab28b2-0e89-43a2-9994-a6bb67db3e03",
   "metadata": {},
   "outputs": [
    {
     "data": {
      "text/plain": [
       "<matplotlib.legend.Legend at 0x1665eaa60>"
      ]
     },
     "execution_count": 55,
     "metadata": {},
     "output_type": "execute_result"
    },
    {
     "data": {
      "image/png": "[encoded data removed]",
      "text/plain": [
       "<Figure size 432x288 with 1 Axes>"
      ]
     },
     "metadata": {
      "needs_background": "light"
     },
     "output_type": "display_data"
    }
   ],
   "source": [
    "plt.plot(x_range, y_range, label='Ground Truth', color='blue')\n",
    "plt.plot(x_range, rm_range, label='Running Mean', color='green')\n",
    "plt.plot(x_range, rm_range + np.sqrt(rv_range), label='Confidence Interval', color='orange')\n",
    "plt.plot(x_range, rm_range - np.sqrt(rv_range), color='orange')\n",
    "plt.xlabel(r'$\\beta$', fontsize = 18)\n",
    "plt.ylabel(r'$\\mu$', fontsize = 18)\n",
    "plt.legend(fontsize = 13)\n",
    "# plt.savefig('final_p3plot.pdf')"
   ]
  },
  {
   "cell_type": "code",
   "execution_count": null,
   "id": "fd5caf78-c57e-4226-8cb9-2c9a916bf137",
   "metadata": {},
   "outputs": [],
   "source": []
  }
 ],
 "metadata": {
  "kernelspec": {
   "display_name": "Python 3",
   "language": "python",
   "name": "python3"
  },
  "language_info": {
   "codemirror_mode": {
    "name": "ipython",
    "version": 3
   },
   "file_extension": ".py",
   "mimetype": "text/x-python",
   "name": "python",
   "nbconvert_exporter": "python",
   "pygments_lexer": "ipython3",
   "version": "3.9.12"
  }
 },
 "nbformat": 4,
 "nbformat_minor": 5
}
